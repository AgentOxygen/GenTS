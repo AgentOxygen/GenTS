{
 "cells": [
  {
   "cell_type": "code",
   "execution_count": null,
   "id": "834ddd36-64d2-4aaa-8280-8a30f60e3091",
   "metadata": {},
   "outputs": [],
   "source": [
    "from timeseries_generation import ModelOutputDatabase\n",
    "from dask_jobqueue import PBSCluster\n",
    "from dask.distributed import Client\n",
    "import dask\n",
    "\n",
    "\n",
    "# Feel free to tinker with cluster setup\n",
    "print(\"Creating cluster... \", end=\"\")\n",
    "cluster = PBSCluster(\n",
    "    cores=1,\n",
    "    memory='2GB',\n",
    "    processes=1,\n",
    "    queue='casper',\n",
    "    resource_spec='select=1:ncpus=1:mem=2GB',\n",
    "    account='INSERt ACCOUNT NUMBER HERE',\n",
    "    walltime='02:00:00',\n",
    "    local_directory=\"/local_scratch/\"\n",
    ")\n",
    "\n",
    "# Be careful how you change cluster.scale()\n",
    "cluster.scale(200)\n",
    "dask.config.set({\n",
    "    'distributed.dashboard.link': 'https://jupyterhub.hpc.ucar.edu/stable/user/{USER}/proxy/{port}/status'\n",
    "})\n",
    "client = Client(cluster)\n",
    "client"
   ]
  },
  {
   "cell_type": "code",
   "execution_count": null,
   "id": "0f4e556e-c964-4346-98a5-56eaa04d3690",
   "metadata": {},
   "outputs": [],
   "source": [
    "test_db = ModelOutputDatabase(\n",
    "    hf_head_dir=\"path/to/head/directory/for/model/dir/that/has/history/files\",\n",
    "    ts_head_dir=\"path/to/output/timeseries/to\",\n",
    ")\n",
    "ts_paths_and_timings = test_db.run()\n",
    "client.shutdown()"
   ]
  }
 ],
 "metadata": {
  "kernelspec": {
   "display_name": "Python 3 (ipykernel)",
   "language": "python",
   "name": "python3"
  },
  "language_info": {
   "codemirror_mode": {
    "name": "ipython",
    "version": 3
   },
   "file_extension": ".py",
   "mimetype": "text/x-python",
   "name": "python",
   "nbconvert_exporter": "python",
   "pygments_lexer": "ipython3",
   "version": "3.10.13"
  }
 },
 "nbformat": 4,
 "nbformat_minor": 5
}
